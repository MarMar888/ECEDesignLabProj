{
 "cells": [
  {
   "cell_type": "markdown",
   "id": "7234bb0d-486e-4c45-a166-c88fc692ec75",
   "metadata": {},
   "source": [
    "# Introduction"
   ]
  },
  {
   "cell_type": "markdown",
   "id": "f3f5c926-f804-42fa-ae52-6e74657428c1",
   "metadata": {},
   "source": [
    "- Provide a project overview and a clear problem description, including a history of how the problem came about and why the problem is important/interesting.\n",
    "- Describe how you acquired the data and provide a concise summary of any cleaning steps taken (i.e., summarize how you cleaned the data in the  pre-processing notebook).\n",
    "- Give an outline of the rest of the report and list any key assumptions made to simplify problems.\n",
    "- Briefly summarize your overall approach."
   ]
  },
  {
   "cell_type": "markdown",
   "id": "69c34a4e",
   "metadata": {},
   "source": [
    "The Design Innovation Lab has a series of 3D printers utilized by everyone from InterEGR 170 to PhD researchers. Over the years, the space has accumulated many different printers aligned with different use cases. As well, staff must maintain and help users print on these printers. This brings about two questions: (1) what are the use cases and segments of customers that use the printers, and (2) when do they need help from staff. This question can help the space effectively identify new printers to purchase, as well as when to staff more or less employees. "
   ]
  },
  {
   "cell_type": "code",
   "execution_count": 10,
   "id": "f5fb8acb",
   "metadata": {},
   "outputs": [],
   "source": [
    "#Import Statements\n",
    "import pandas as pd\n",
    "import numpy as np\n",
    "from sklearn.preprocessing import StandardScaler\n",
    "from sklearn.decomposition import PCA"
   ]
  },
  {
   "cell_type": "markdown",
   "id": "04b377ac",
   "metadata": {},
   "source": [
    "We acquired the data directly as Marley is an employee of the Design Innovation Lab. As for data cleaning we dropped rows with null values as it would be hard to work with rows that have null values. We also dropped a duplicate column that was named ‘Print ID’ as it would skew our data analysis. We also dropped many rows that weren’t necessary to what we were trying to find. Things such as if they needed help from staff, if they had subitems, what their job status is, tracking of the print process, the materials people requested, links and IP addresses, status of the printers, if they are doing it for a course/org, instructions, material items, agreements and understanding, if any archive data was needed, print counts, payment information, username, and additional cost."
   ]
  },
  {
   "cell_type": "markdown",
   "id": "54626f23",
   "metadata": {},
   "source": [
    "Our first goal is to split the customer base into four sections that use the 3D printers in different ways. The four sections will be basic undergrad, advanced undergrad, grad, and faculty. Two of these sections are already done for us within the data we have; however, splitting the undergrads into basic and advanced will require us to do clustering. Once we have these sections, we can analyze them and determine specific trends within them.\n",
    "\n",
    "\n",
    "We also want to figure out when people come in and do their prints. To do this, we are going to split the date into both a day of the week and time of the day. This information will be used to determine how much staffing in the design lab will be required at certain times.\n",
    "\n",
    "Unfortunately, this data is not comprehensive and we will have to make some assumptions in continuing with this report. The first assumption we are making is that all Faculty/Staff are from the university. Occasionally, external groups will use the printers and get labeled as such. The second assumption is that our data thoroughly represents week-to-week trends. Since our data is only from this semester, we are only able to find week-to-week trends rather than trends by the semester."
   ]
  },
  {
   "cell_type": "code",
   "execution_count": null,
   "id": "0f05813c-849a-4ccb-a9d6-102c27c214ba",
   "metadata": {},
   "outputs": [],
   "source": [
    "#Introduction"
   ]
  },
  {
   "cell_type": "markdown",
   "id": "a4423793-2c2a-4cdb-b228-d81adbed38bb",
   "metadata": {},
   "source": [
    "# Descriptive Analysis"
   ]
  },
  {
   "cell_type": "markdown",
   "id": "06008010-c45b-4d69-92cf-002a6574bcd0",
   "metadata": {},
   "source": [
    "- Load the (cleaned) dataset into a Pandas DataFrame. \n",
    "- Use at least one method (e.g., Pivot Tables, PCA, Clustering) to provide a descriptive analysis of the data. \n",
    "- Include at least one chart to enhance your analysis. \n",
    "- Describe any insight you gained from your analysis. Are there any surprises?\n",
    "- Use Markdown cells to provide written analysis where appropriate. "
   ]
  },
  {
   "cell_type": "code",
   "execution_count": null,
   "id": "49458950-7c48-4597-a5ee-655b1ad931e7",
   "metadata": {},
   "outputs": [],
   "source": [
    "#Descriptive Analysis\n",
    "\n",
    "#PCA\n",
    "df = pd.read_csv('PCA_ready.csv')\n",
    "df1 = pd.read_csv('cleaned_dateset.csv')\n",
    "nums = df[[\"Select Printer\", \"Printer Requested\", \"Material 1 Qty\", \"User Type\", \"Material 1\", \"Printed On\", \"Print Time (Hours)\", \"Material_Category1\"]]\n",
    "nums = pd.concat([nums, df1[\"Print Cost\"]])\n",
    "nums.fillna(0, inplace = True)\n",
    "scaler = StandardScaler()\n",
    "scaler.fit(nums)\n",
    "\n",
    "for i in range(1,10):\n",
    "  pca = PCA(n_components=i)\n",
    "  pca.fit(nums)\n",
    "  print(\"There is/are\", i, \"component(s):\", pca.explained_variance_ratio_.sum())\n",
    "print()\n",
    "\n",
    "pca = PCA(n_components=1)\n",
    "pca.fit(nums)\n",
    "data_pca = pca.transform(nums)\n",
    "print(\"The first component is: \", pca.components_[0])\n",
    "\n",
    "pca = PCA(n_components=2)\n",
    "pca.fit(nums)\n",
    "data_pca = pca.transform(nums)\n",
    "print()\n",
    "print(\"The second component is: \", pca.components_[1])\n",
    "\n",
    "pca = PCA(n_components=3)\n",
    "pca.fit(nums)\n",
    "data_pca = pca.transform(nums)\n",
    "print()\n",
    "print(\"The third component is: \", pca.components_[2])"
   ]
  },
  {
   "cell_type": "markdown",
   "id": "4b59403b-7a4e-4bab-8a2a-56046775cbfd",
   "metadata": {},
   "source": [
    "# Predictive Analysis"
   ]
  },
  {
   "cell_type": "markdown",
   "id": "c4c8f307-dfae-4e7f-8387-34b81fca8e35",
   "metadata": {},
   "source": [
    "- Use a markdown cell to identify at least one question that can be addressed via predictive analysis. (E.g., “Can house prices be predicted based on the year they were built and the size of its lot?”)\n",
    "- Implement an appropriate supervised learning algorithm to address the question(s) identified above, explaining your choice of algorithm over other methods and specifying the features and labels of your model(s).\n",
    "- Include a ML pipeline with appropriate training/testing splits and, when applicable, cross-validation and hyperparameter tuning.\n",
    "- Report your results using appropriate metrics and visualizations.\n",
    "- Use Markdown cells to provide a written analysis."
   ]
  },
  {
   "cell_type": "markdown",
   "id": "dcecf1e6-9628-412c-b3bb-216580f8b25b",
   "metadata": {},
   "source": [
    "The question we aim to address through our predictive analysis is whether we can accurately predict the number of people who will be coming in, using data on when people have come in the past.\n",
    "\n",
    "\n",
    "Since the data we are predicting is continuous, that leaves us with regression. Choosing the type of regression is based on the features used to predict the label. In our case, we are using the time of day, so we opted for autoregression.\n",
    "\n",
    "\n",
    "The label we are predicting will be a count of people coming in at a certain hour of a day.\n",
    "The feature being used is the time of day."
   ]
  },
  {
   "cell_type": "code",
   "execution_count": 21,
   "id": "8098cfce-82f0-4594-9647-c4b69e54d772",
   "metadata": {},
   "outputs": [],
   "source": [
    "# Load in fresh dataset\n",
    "df = pd.read_csv('cleaned_dataset.csv')\n",
    "\n",
    "# Turn Creation Log into datetime and take required infromation from it\n",
    "df['Creation Log'] = pd.to_datetime(df['Creation Log'])\n",
    "df['Day Time'] = df['Creation Log'].dt.floor('1h')\n",
    "df['Weekday'] = df['Creation Log'].dt.day_name()\n",
    "df['Date'] = df['Creation Log'].dt.date\n",
    "df['Hour'] = df['Creation Log'].dt.hour\n",
    "\n",
    "# Only use information from dataset that is needed\n",
    "dft = df[['Day Time', 'Weekday', 'Date', 'Hour']]"
   ]
  },
  {
   "cell_type": "code",
   "execution_count": null,
   "id": "809f931a",
   "metadata": {},
   "outputs": [],
   "source": []
  },
  {
   "cell_type": "code",
   "execution_count": null,
   "id": "500bccc1",
   "metadata": {},
   "outputs": [],
   "source": []
  },
  {
   "cell_type": "markdown",
   "id": "32529f0e-471c-4a25-ae67-0eb1560e8756",
   "metadata": {},
   "source": [
    "# Ethical Considerations"
   ]
  },
  {
   "cell_type": "markdown",
   "id": "4f0560dd-b025-4010-b86a-76e815355d6b",
   "metadata": {},
   "source": [
    "**Are there any ethical considerations regarding the dataset? (e.g., is it possible the data is biased?)**\\\n",
    "The Team Innovation Lab isn’t open to students on the weekends so the only prints on the weekend are staff. So there is some bias towards staff as they can print throughout the whole week versus students who can only print five days a week.\n",
    "\n",
    "**Reflect on potential ethical implications of your analysis, such as privacy concerns, fairness, and the societal impact of the model if misused.**\\\n",
    "The Team Innovation Lab isn’t open to students on the weekends so the only prints on the weekend are staff. So there is some bias towards staff as they can print throughout the whole week versus students who can only print five days a week.\n",
    "\n",
    "**Address ways to mitigate negative impacts of the analysis.**\\\n",
    "We have chosen to not use names after cleaning to avoid privacy issues that could be associated with them. We are just showing our findings in class and to the Team Innovations Lab instead of to the public to mitigate potential copying of ideas."
   ]
  },
  {
   "cell_type": "markdown",
   "id": "3e30a38d-6b0d-48a7-bf7a-2d1c2f660184",
   "metadata": {},
   "source": [
    "# Conclusion"
   ]
  },
  {
   "cell_type": "markdown",
   "id": "d7490847-1230-43db-bdac-9b824a17bcc6",
   "metadata": {},
   "source": [
    "- Use a Markdown cell to write a concise conclusion to your analysis. Did your analysis provide insight to this dataset? Were the results expected? If not, why?\n",
    "- Highlight any limitations encountered.\n",
    "- Describe at least one possible future direction based on your analysis and dataset. What are the challenges of pursuing this direction? If additional resources/data is needed, please specify."
   ]
  },
  {
   "cell_type": "code",
   "execution_count": null,
   "id": "ac5beffd-ddb1-4bec-a6bf-49880f5ed463",
   "metadata": {},
   "outputs": [],
   "source": []
  }
 ],
 "metadata": {
  "kernelspec": {
   "display_name": "Python [conda env:base] *",
   "language": "python",
   "name": "conda-base-py"
  },
  "language_info": {
   "codemirror_mode": {
    "name": "ipython",
    "version": 3
   },
   "file_extension": ".py",
   "mimetype": "text/x-python",
   "name": "python",
   "nbconvert_exporter": "python",
   "pygments_lexer": "ipython3",
   "version": "3.12.7"
  }
 },
 "nbformat": 4,
 "nbformat_minor": 5
}
