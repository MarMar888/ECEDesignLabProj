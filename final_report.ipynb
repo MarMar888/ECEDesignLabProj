{
 "cells": [
  {
   "cell_type": "markdown",
   "id": "7234bb0d-486e-4c45-a166-c88fc692ec75",
   "metadata": {},
   "source": [
    "# Introduction"
   ]
  },
  {
   "cell_type": "markdown",
   "id": "f3f5c926-f804-42fa-ae52-6e74657428c1",
   "metadata": {},
   "source": [
    "- Provide a project overview and a clear problem description, including a history of how the problem came about and why the problem is important/interesting.\n",
    "- Describe how you acquired the data and provide a concise summary of any cleaning steps taken (i.e., summarize how you cleaned the data in the  pre-processing notebook).\n",
    "- Give an outline of the rest of the report and list any key assumptions made to simplify problems.\n",
    "- Briefly summarize your overall approach."
   ]
  },
  {
   "cell_type": "code",
   "execution_count": null,
   "id": "0f05813c-849a-4ccb-a9d6-102c27c214ba",
   "metadata": {},
   "outputs": [],
   "source": []
  },
  {
   "cell_type": "markdown",
   "id": "a4423793-2c2a-4cdb-b228-d81adbed38bb",
   "metadata": {},
   "source": [
    "# Descriptive Analysis"
   ]
  },
  {
   "cell_type": "markdown",
   "id": "06008010-c45b-4d69-92cf-002a6574bcd0",
   "metadata": {},
   "source": [
    "- Load the (cleaned) dataset into a Pandas DataFrame. \n",
    "- Use at least one method (e.g., Pivot Tables, PCA, Clustering) to provide a descriptive analysis of the data. \n",
    "- Include at least one chart to enhance your analysis. \n",
    "- Describe any insight you gained from your analysis. Are there any surprises?\n",
    "- Use Markdown cells to provide written analysis where appropriate. "
   ]
  },
  {
   "cell_type": "code",
   "execution_count": null,
   "id": "49458950-7c48-4597-a5ee-655b1ad931e7",
   "metadata": {},
   "outputs": [],
   "source": []
  },
  {
   "cell_type": "markdown",
   "id": "4b59403b-7a4e-4bab-8a2a-56046775cbfd",
   "metadata": {},
   "source": [
    "# Predictive Analysis"
   ]
  },
  {
   "cell_type": "markdown",
   "id": "c4c8f307-dfae-4e7f-8387-34b81fca8e35",
   "metadata": {},
   "source": [
    "- Use a markdown cell to identify at least one question that can be addressed via predictive analysis. (E.g., “Can house prices be predicted based on the year they were built and the size of its lot?”)\n",
    "- Implement an appropriate supervised learning algorithm to address the question(s) identified above, explaining your choice of algorithm over other methods and specifying the features and labels of your model(s).\n",
    "- Include a ML pipeline with appropriate training/testing splits and, when applicable, cross-validation and hyperparameter tuning.\n",
    "- Report your results using appropriate metrics and visualizations.\n",
    "- Use Markdown cells to provide a written analysis."
   ]
  },
  {
   "cell_type": "code",
   "execution_count": null,
   "id": "8098cfce-82f0-4594-9647-c4b69e54d772",
   "metadata": {},
   "outputs": [],
   "source": []
  },
  {
   "cell_type": "markdown",
   "id": "32529f0e-471c-4a25-ae67-0eb1560e8756",
   "metadata": {},
   "source": [
    "# Ethical Considerations"
   ]
  },
  {
   "cell_type": "markdown",
   "id": "4f0560dd-b025-4010-b86a-76e815355d6b",
   "metadata": {},
   "source": [
    "- Are there any ethical considerations regarding the dataset? (e.g., is it possible the data is biased?) \n",
    "- Reflect on potential ethical implications of your analysis, such as privacy concerns, fairness, and the societal impact of the model if misused.\n",
    "- Address ways to mitigate negative impacts of the analysis."
   ]
  },
  {
   "cell_type": "code",
   "execution_count": null,
   "id": "3bf18c65-bbc4-4a54-bbd0-f1dd2ceca9ce",
   "metadata": {},
   "outputs": [],
   "source": []
  },
  {
   "cell_type": "markdown",
   "id": "3e30a38d-6b0d-48a7-bf7a-2d1c2f660184",
   "metadata": {},
   "source": [
    "# Conclusion"
   ]
  },
  {
   "cell_type": "markdown",
   "id": "d7490847-1230-43db-bdac-9b824a17bcc6",
   "metadata": {},
   "source": [
    "- Use a Markdown cell to write a concise conclusion to your analysis. Did your analysis provide insight to this dataset? Were the results expected? If not, why?\n",
    "- Highlight any limitations encountered.\n",
    "- Describe at least one possible future direction based on your analysis and dataset. What are the challenges of pursuing this direction? If additional resources/data is needed, please specify."
   ]
  },
  {
   "cell_type": "code",
   "execution_count": null,
   "id": "ac5beffd-ddb1-4bec-a6bf-49880f5ed463",
   "metadata": {},
   "outputs": [],
   "source": []
  }
 ],
 "metadata": {
  "kernelspec": {
   "display_name": "Python [conda env:base] *",
   "language": "python",
   "name": "conda-base-py"
  },
  "language_info": {
   "codemirror_mode": {
    "name": "ipython",
    "version": 3
   },
   "file_extension": ".py",
   "mimetype": "text/x-python",
   "name": "python",
   "nbconvert_exporter": "python",
   "pygments_lexer": "ipython3",
   "version": "3.12.7"
  }
 },
 "nbformat": 4,
 "nbformat_minor": 5
}
